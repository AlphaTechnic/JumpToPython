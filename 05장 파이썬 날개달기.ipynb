{
 "cells": [
  {
   "cell_type": "markdown",
   "metadata": {},
   "source": [
    "# 05-1 클래스"
   ]
  },
  {
   "cell_type": "code",
   "execution_count": 2,
   "metadata": {},
   "outputs": [
    {
     "name": "stdout",
     "output_type": "stream",
     "text": [
      "3\n",
      "7\n"
     ]
    }
   ],
   "source": [
    "class Calculator:\n",
    "    def __init__(self):\n",
    "        self.result = 0\n",
    "        \n",
    "    def add(self, num):\n",
    "        self.result += num\n",
    "        return self.result\n",
    "    \n",
    "cal1 = Calculator()\n",
    "cal2 = Calculator()\n",
    "\n",
    "print(cal1.add(3))\n",
    "print(cal1.add(4))"
   ]
  },
  {
   "cell_type": "code",
   "execution_count": 21,
   "metadata": {},
   "outputs": [],
   "source": [
    "class FourCal:\n",
    "    def setdata(self, first, second):\n",
    "        self.first = first\n",
    "        self.second = second\n",
    "    def add(self):\n",
    "        result = self.first + self.second\n",
    "        return result\n",
    "    def sub(self):\n",
    "        result = self.first - self.second\n",
    "        return result\n",
    "    def mul(self):\n",
    "        result = self.first * self.second\n",
    "        return result\n",
    "    def div(self):\n",
    "        result = self.first / self.second\n",
    "        return result"
   ]
  },
  {
   "cell_type": "code",
   "execution_count": 24,
   "metadata": {},
   "outputs": [
    {
     "data": {
      "text/plain": [
       "12"
      ]
     },
     "execution_count": 24,
     "metadata": {},
     "output_type": "execute_result"
    }
   ],
   "source": [
    "a = FourCal()\n",
    "a.setdata(4,3)\n",
    "a.mul()"
   ]
  },
  {
   "cell_type": "code",
   "execution_count": 26,
   "metadata": {},
   "outputs": [],
   "source": [
    "class FourCal:\n",
    "    def __init__(self, first, second):\n",
    "        self.first = first\n",
    "        self.second = second\n",
    "    def add(self):\n",
    "        result = self.first + self.second\n",
    "        return result\n",
    "    def sub(self):\n",
    "        result = self.first - self.second\n",
    "        return result\n",
    "    def mul(self):\n",
    "        result = self.first * self.second\n",
    "        return result\n",
    "    def div(self):\n",
    "        result = self.first / self.second\n",
    "        return result"
   ]
  },
  {
   "cell_type": "code",
   "execution_count": 29,
   "metadata": {},
   "outputs": [
    {
     "data": {
      "text/plain": [
       "2.0"
      ]
     },
     "execution_count": 29,
     "metadata": {},
     "output_type": "execute_result"
    }
   ],
   "source": [
    "a = FourCal(4,2)\n",
    "a.div()"
   ]
  },
  {
   "cell_type": "code",
   "execution_count": 38,
   "metadata": {},
   "outputs": [
    {
     "data": {
      "text/plain": [
       "81"
      ]
     },
     "execution_count": 38,
     "metadata": {},
     "output_type": "execute_result"
    }
   ],
   "source": [
    "class MoreFourCal(FourCal):\n",
    "    def pow(self):\n",
    "        result = self.first ** self.second\n",
    "        return result\n",
    "a = MoreFourCal(3, 4)\n",
    "a.pow()"
   ]
  },
  {
   "cell_type": "code",
   "execution_count": 39,
   "metadata": {},
   "outputs": [
    {
     "data": {
      "text/plain": [
       "0"
      ]
     },
     "execution_count": 39,
     "metadata": {},
     "output_type": "execute_result"
    }
   ],
   "source": [
    "class SafeFourCal(FourCal):\n",
    "    def div(self):\n",
    "        if self.second == 0:\n",
    "            return 0\n",
    "        else:\n",
    "            return self.first / self.second\n",
    "\n",
    "a = SafeFourCal(4, 0)\n",
    "a.div()"
   ]
  },
  {
   "cell_type": "code",
   "execution_count": 41,
   "metadata": {},
   "outputs": [
    {
     "name": "stdout",
     "output_type": "stream",
     "text": [
      "김\n"
     ]
    }
   ],
   "source": [
    "class Family:\n",
    "    lastname = \"김\"\n",
    "    \n",
    "print(Family.lastname)"
   ]
  },
  {
   "cell_type": "markdown",
   "metadata": {},
   "source": [
    "# 05-2 모듈"
   ]
  },
  {
   "cell_type": "code",
   "execution_count": null,
   "metadata": {},
   "outputs": [],
   "source": []
  },
  {
   "cell_type": "code",
   "execution_count": null,
   "metadata": {},
   "outputs": [],
   "source": []
  }
 ],
 "metadata": {
  "kernelspec": {
   "display_name": "Python 3",
   "language": "python",
   "name": "python3"
  },
  "language_info": {
   "codemirror_mode": {
    "name": "ipython",
    "version": 3
   },
   "file_extension": ".py",
   "mimetype": "text/x-python",
   "name": "python",
   "nbconvert_exporter": "python",
   "pygments_lexer": "ipython3",
   "version": "3.7.5"
  }
 },
 "nbformat": 4,
 "nbformat_minor": 2
}
